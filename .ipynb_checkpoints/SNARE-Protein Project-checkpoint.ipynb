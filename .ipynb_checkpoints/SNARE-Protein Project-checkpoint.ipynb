{
 "cells": [
  {
   "cell_type": "markdown",
   "metadata": {},
   "source": [
    "# SNARE-Protein Project"
   ]
  },
  {
   "cell_type": "code",
   "execution_count": 3,
   "metadata": {},
   "outputs": [],
   "source": [
    "import numpy as np\n",
    "import pandas as pd\n",
    "import requests\n",
    "from bs4 import BeautifulSoup as BS"
   ]
  },
  {
   "cell_type": "markdown",
   "metadata": {},
   "source": [
    "## If Any Known Proteins From SNARE Family Belongs to Mycobacterium Tuberculosis"
   ]
  },
  {
   "cell_type": "markdown",
   "metadata": {},
   "source": [
    "### 1. Get SNARE family protein IDs from InterPro"
   ]
  },
  {
   "cell_type": "code",
   "execution_count": 14,
   "metadata": {},
   "outputs": [],
   "source": [
    "# downloadProteinID function \n",
    "# input: \n",
    "#   None\n",
    "# output:\n",
    "#   the name of the file contains a list of proteins IDs downloaded from InterPro\n",
    "def downloadProteinID ():\n",
    "    url = \"http://www.ebi.ac.uk/interpro/entry/IPR010989/proteins-matched?taxonomy=2&export=ids\"\n",
    "    r = requests.get(url, allow_redirects=True)\n",
    "    open(\"SNARE_proteins_bacteria.txt\", 'wb').write(r.content)\n",
    "    return \"SNARE_proteins_bacteria.txt\"\n",
    "\n",
    "# The file of protein ids download from InterPro\n",
    "proteinIDs = downloadProteinID ()"
   ]
  },
  {
   "cell_type": "markdown",
   "metadata": {},
   "source": [
    "### 2. Get organism names from Uniport"
   ]
  },
  {
   "cell_type": "code",
   "execution_count": 15,
   "metadata": {},
   "outputs": [],
   "source": [
    "# searchUniport_stable function\n",
    "# input:\n",
    "#   filename: string\n",
    "#             the filename of a list of Protein ids \n",
    "# output:\n",
    "#   a file with all the organism names matched to the protein ids and the\n",
    "#   corresponding freqency of apperance\n",
    "# SideNote: This function accomplish the smae goal as searchUniport_fast, but\n",
    "#           this function accomplish the goal with uniprot api, where the \n",
    "#           result is stable but rather slow, which could take up to 10 mins.\n",
    "def searchUniport_stable (filename):\n",
    "    outFile = open(\"organism.txt\", \"w\")\n",
    "    proteinIDs = open(filename, \"r\")\n",
    "    orgDic = {}\n",
    "    for protein in proteinIDs:\n",
    "        url = \"https://www.uniprot.org/uniprot/?query=id:\" + protein + \"&columns=organism&format=tab\"\n",
    "        print(\"before\")\n",
    "        result = requests.get(url).content\n",
    "        print (\"after\")\n",
    "        organism = str(result).split(\"\\\\n\")[1]\n",
    "        if organism in orgDic:\n",
    "            orgDic[organism] = orgDic[organism] + 1\n",
    "        else:\n",
    "            orgDic[organism] = 1\n",
    "    for org_freqs in sorted(orgDic, key=orgDic.get, reverse=True):\n",
    "        outFile.write(str(orgDic[org_freqs]) + \" \" + org_freqs + \"\\n\")"
   ]
  },
  {
   "cell_type": "code",
   "execution_count": 16,
   "metadata": {},
   "outputs": [],
   "source": [
    "# searchUniport_fast function\n",
    "# input:\n",
    "#   filename: string\n",
    "#             the filename of a list of Protein ids \n",
    "# output:\n",
    "#   a file with all the organism names matched to the protein ids and the\n",
    "#   corresponding freqency of apperance\n",
    "# SideNote: This function accomplish the smae goal as searchUniport_stable, but\n",
    "#           accomplish the goal with python's BeautifulSoup package, where the \n",
    "#           result could be unstable but faster than using Uniport API. \n",
    "def searchUniport_fast (filename):\n",
    "    outFile = open(\"organism.txt\", \"w\")\n",
    "    proteinIDs = open(filename, \"r\")\n",
    "    orgDic = {}\n",
    "    for protein in proteinIDs:\n",
    "        text = requests.get('http://www.uniprot.org/uniprot/' + protein).text\n",
    "        soup = BS(text)\n",
    "        title = soup.head.title.text\n",
    "        organism = title.split(\" - \")[2]\n",
    "        if organism in orgDic:\n",
    "            orgDic[organism] = orgDic[organism] + 1\n",
    "        else:\n",
    "            orgDic[organism] = 1\n",
    "    for org_freqs in sorted(orgDic, key=orgDic.get, reverse=True):\n",
    "        outFile.write(str(orgDic[org_freqs]) + \" \" + org_freqs + \"\\n\")"
   ]
  },
  {
   "cell_type": "markdown",
   "metadata": {},
   "source": [
    "Get organism names from Uniport. This could take a while depends on the function choice. "
   ]
  },
  {
   "cell_type": "code",
   "execution_count": 17,
   "metadata": {},
   "outputs": [],
   "source": [
    "searchUniport_fast(proteinIDs)"
   ]
  },
  {
   "cell_type": "markdown",
   "metadata": {},
   "source": [
    "### 3. Search through the organism names to see if it contains Mycobacterium Tuberculosis"
   ]
  },
  {
   "cell_type": "code",
   "execution_count": 18,
   "metadata": {},
   "outputs": [],
   "source": [
    "# queryOrg function\n",
    "# input: \n",
    "#   queryName: string\n",
    "#              the name of organism we want check if it's in the organism list\n",
    "#   orgFile: string\n",
    "#            the name of the file output by searchUniport function, which contains\n",
    "#            all the organism names that have a specific protein fanmily\n",
    "# output:\n",
    "#   a boolean that tells if the query organism is in the organisms list\n",
    "def queryOrg (queryName, orgFile):\n",
    "    f = open(orgFile, \"r\")\n",
    "    for org in f:\n",
    "        lowerOrg = org.lower()\n",
    "        qLower = queryName.lower()\n",
    "        if qLower in lowerOrg:\n",
    "            return True\n",
    "    return False"
   ]
  },
  {
   "cell_type": "code",
   "execution_count": 20,
   "metadata": {},
   "outputs": [
    {
     "name": "stdout",
     "output_type": "stream",
     "text": [
      "Mycobacterium tuberculosis is in the name list: False\n"
     ]
    }
   ],
   "source": [
    "# Determine if TB is in the orgnanism list\n",
    "query = \"Mycobacterium tuberculosis\"\n",
    "organism = \"organism.txt\"\n",
    "result = queryOrg(query, organism)\n",
    "print (\"Mycobacterium tuberculosis is in the name list: \" + str(result))"
   ]
  },
  {
   "cell_type": "markdown",
   "metadata": {},
   "source": [
    "### 4. Conclusion"
   ]
  },
  {
   "cell_type": "markdown",
   "metadata": {},
   "source": []
  },
  {
   "cell_type": "markdown",
   "metadata": {},
   "source": [
    "## Blast SNARE-like proteins against Mycobacterium tuberculosis"
   ]
  },
  {
   "cell_type": "markdown",
   "metadata": {},
   "source": [
    "Import a list of all (most) predicted \"Incs\" from C. trachomatis from the paper *Expression and Localization of Predicted Inclusion Membrane Proteins in Chlamydia trachomatis*"
   ]
  },
  {
   "cell_type": "code",
   "execution_count": 10,
   "metadata": {},
   "outputs": [
    {
     "data": {
      "text/html": [
       "<div>\n",
       "<style scoped>\n",
       "    .dataframe tbody tr th:only-of-type {\n",
       "        vertical-align: middle;\n",
       "    }\n",
       "\n",
       "    .dataframe tbody tr th {\n",
       "        vertical-align: top;\n",
       "    }\n",
       "\n",
       "    .dataframe thead th {\n",
       "        text-align: right;\n",
       "    }\n",
       "</style>\n",
       "<table border=\"1\" class=\"dataframe\">\n",
       "  <thead>\n",
       "    <tr style=\"text-align: right;\">\n",
       "      <th></th>\n",
       "      <th>D/UW-3/CX</th>\n",
       "      <th>L2/434/Bu</th>\n",
       "      <th>A/HAR-13</th>\n",
       "    </tr>\n",
       "  </thead>\n",
       "  <tbody>\n",
       "    <tr>\n",
       "      <th>0</th>\n",
       "      <td>CT005</td>\n",
       "      <td>CTL0260</td>\n",
       "      <td>CTA0006</td>\n",
       "    </tr>\n",
       "    <tr>\n",
       "      <th>1</th>\n",
       "      <td>CT006</td>\n",
       "      <td>CTL0261</td>\n",
       "      <td>CTA0007</td>\n",
       "    </tr>\n",
       "    <tr>\n",
       "      <th>2</th>\n",
       "      <td>CT036</td>\n",
       "      <td>CTL0291</td>\n",
       "      <td>CTA0038</td>\n",
       "    </tr>\n",
       "    <tr>\n",
       "      <th>3</th>\n",
       "      <td>CT058</td>\n",
       "      <td>CTL0314</td>\n",
       "      <td>CTA0062</td>\n",
       "    </tr>\n",
       "    <tr>\n",
       "      <th>4</th>\n",
       "      <td>CT079</td>\n",
       "      <td>CTL0335</td>\n",
       "      <td>CTA0084</td>\n",
       "    </tr>\n",
       "  </tbody>\n",
       "</table>\n",
       "</div>"
      ],
      "text/plain": [
       "  D/UW-3/CX L2/434/Bu A/HAR-13\n",
       "0     CT005   CTL0260  CTA0006\n",
       "1     CT006   CTL0261  CTA0007\n",
       "2     CT036   CTL0291  CTA0038\n",
       "3     CT058   CTL0314  CTA0062\n",
       "4     CT079   CTL0335  CTA0084"
      ]
     },
     "execution_count": 10,
     "metadata": {},
     "output_type": "execute_result"
    }
   ],
   "source": [
    "Incs_proteins = pd.read_csv(\"C.trachomatis_predict_Incs.txt\", sep = \" \", index_col = False)\n",
    "Incs_proteins.head()"
   ]
  },
  {
   "cell_type": "markdown",
   "metadata": {},
   "source": [
    "Change the locus tag for D/UW-3/CX strain in order to match NCBI locus tag format and store the changed tags into DUW-3CX_predict_Incs.txt file using unix command:\n",
    "```shell\n",
    "cut -d \" \" -f 1 C.trachomatis_predict_Incs.txt | sed s/CT/CT_/g > DUW-3CX_predict_Incs.txt\n",
    "```"
   ]
  },
  {
   "cell_type": "code",
   "execution_count": 22,
   "metadata": {},
   "outputs": [
    {
     "data": {
      "text/html": [
       "<div>\n",
       "<style scoped>\n",
       "    .dataframe tbody tr th:only-of-type {\n",
       "        vertical-align: middle;\n",
       "    }\n",
       "\n",
       "    .dataframe tbody tr th {\n",
       "        vertical-align: top;\n",
       "    }\n",
       "\n",
       "    .dataframe thead th {\n",
       "        text-align: right;\n",
       "    }\n",
       "</style>\n",
       "<table border=\"1\" class=\"dataframe\">\n",
       "  <thead>\n",
       "    <tr style=\"text-align: right;\">\n",
       "      <th></th>\n",
       "      <th>D/UW-3/CX</th>\n",
       "    </tr>\n",
       "  </thead>\n",
       "  <tbody>\n",
       "    <tr>\n",
       "      <th>0</th>\n",
       "      <td>CT_005</td>\n",
       "    </tr>\n",
       "    <tr>\n",
       "      <th>1</th>\n",
       "      <td>CT_006</td>\n",
       "    </tr>\n",
       "    <tr>\n",
       "      <th>2</th>\n",
       "      <td>CT_036</td>\n",
       "    </tr>\n",
       "    <tr>\n",
       "      <th>3</th>\n",
       "      <td>CT_058</td>\n",
       "    </tr>\n",
       "    <tr>\n",
       "      <th>4</th>\n",
       "      <td>CT_079</td>\n",
       "    </tr>\n",
       "  </tbody>\n",
       "</table>\n",
       "</div>"
      ],
      "text/plain": [
       "  D/UW-3/CX\n",
       "0    CT_005\n",
       "1    CT_006\n",
       "2    CT_036\n",
       "3    CT_058\n",
       "4    CT_079"
      ]
     },
     "execution_count": 22,
     "metadata": {},
     "output_type": "execute_result"
    }
   ],
   "source": [
    "DUW3CX_proteins = pd.read_csv(\"DUW-3CX_predict_Incs.txt\", sep = \" \", index_col = False)\n",
    "DUW3CX_proteins.head()"
   ]
  },
  {
   "cell_type": "code",
   "execution_count": null,
   "metadata": {},
   "outputs": [],
   "source": []
  }
 ],
 "metadata": {
  "kernelspec": {
   "display_name": "Python 3",
   "language": "python",
   "name": "python3"
  },
  "language_info": {
   "codemirror_mode": {
    "name": "ipython",
    "version": 3
   },
   "file_extension": ".py",
   "mimetype": "text/x-python",
   "name": "python",
   "nbconvert_exporter": "python",
   "pygments_lexer": "ipython3",
   "version": "3.7.1"
  }
 },
 "nbformat": 4,
 "nbformat_minor": 2
}
